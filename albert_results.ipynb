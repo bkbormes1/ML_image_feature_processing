{
 "cells": [
  {
   "cell_type": "code",
   "execution_count": 1,
   "id": "4a3c6f98",
   "metadata": {},
   "outputs": [
    {
     "name": "stderr",
     "output_type": "stream",
     "text": [
      "/Users/aura_dev/.virtualenvs/w281/lib/python3.7/site-packages/pandas/compat/__init__.py:124: UserWarning: Could not import the lzma module. Your installed Python is incomplete. Attempting to use lzma compression will result in a RuntimeError.\n",
      "  warnings.warn(msg)\n"
     ]
    },
    {
     "data": {
      "text/html": [
       "<div>\n",
       "<style scoped>\n",
       "    .dataframe tbody tr th:only-of-type {\n",
       "        vertical-align: middle;\n",
       "    }\n",
       "\n",
       "    .dataframe tbody tr th {\n",
       "        vertical-align: top;\n",
       "    }\n",
       "\n",
       "    .dataframe thead th {\n",
       "        text-align: right;\n",
       "    }\n",
       "</style>\n",
       "<table border=\"1\" class=\"dataframe\">\n",
       "  <thead>\n",
       "    <tr style=\"text-align: right;\">\n",
       "      <th></th>\n",
       "      <th>filename</th>\n",
       "      <th>filename_camelcase</th>\n",
       "      <th>pistachio_type</th>\n",
       "      <th>major_axis</th>\n",
       "      <th>minor_axis</th>\n",
       "      <th>area</th>\n",
       "      <th>perimeter</th>\n",
       "      <th>ellipse_area</th>\n",
       "      <th>ellipse_perimeter</th>\n",
       "      <th>major_axes</th>\n",
       "      <th>...</th>\n",
       "      <th>k</th>\n",
       "      <th>r</th>\n",
       "      <th>co</th>\n",
       "      <th>sf1</th>\n",
       "      <th>sf2</th>\n",
       "      <th>sf3</th>\n",
       "      <th>sf4</th>\n",
       "      <th>percent_area</th>\n",
       "      <th>distance_from_ellipse</th>\n",
       "      <th>average_hue</th>\n",
       "    </tr>\n",
       "  </thead>\n",
       "  <tbody>\n",
       "    <tr>\n",
       "      <th>0</th>\n",
       "      <td>kirmizi (23).jpg</td>\n",
       "      <td>kirmizi_23.jpg</td>\n",
       "      <td>0</td>\n",
       "      <td>453.495544</td>\n",
       "      <td>220.994598</td>\n",
       "      <td>78732.0</td>\n",
       "      <td>1216.631593</td>\n",
       "      <td>78712.655547</td>\n",
       "      <td>1120.665639</td>\n",
       "      <td>453.495544</td>\n",
       "      <td>...</td>\n",
       "      <td>2.052066</td>\n",
       "      <td>0.787594</td>\n",
       "      <td>0.698079</td>\n",
       "      <td>0.005761</td>\n",
       "      <td>0.002808</td>\n",
       "      <td>0.487314</td>\n",
       "      <td>0.487314</td>\n",
       "      <td>0.240742</td>\n",
       "      <td>0.747299</td>\n",
       "      <td>104.021402</td>\n",
       "    </tr>\n",
       "    <tr>\n",
       "      <th>1</th>\n",
       "      <td>kirmizi 21.jpg</td>\n",
       "      <td>kirmizi_21.jpg</td>\n",
       "      <td>0</td>\n",
       "      <td>464.291748</td>\n",
       "      <td>248.325897</td>\n",
       "      <td>89545.0</td>\n",
       "      <td>1268.371705</td>\n",
       "      <td>90553.003463</td>\n",
       "      <td>1169.652914</td>\n",
       "      <td>464.291748</td>\n",
       "      <td>...</td>\n",
       "      <td>1.869687</td>\n",
       "      <td>0.831761</td>\n",
       "      <td>0.731334</td>\n",
       "      <td>0.005127</td>\n",
       "      <td>0.002742</td>\n",
       "      <td>0.534849</td>\n",
       "      <td>0.534849</td>\n",
       "      <td>0.271703</td>\n",
       "      <td>0.862266</td>\n",
       "      <td>108.530097</td>\n",
       "    </tr>\n",
       "    <tr>\n",
       "      <th>2</th>\n",
       "      <td>kirmizi 35.jpg</td>\n",
       "      <td>kirmizi_35.jpg</td>\n",
       "      <td>0</td>\n",
       "      <td>481.507446</td>\n",
       "      <td>219.244537</td>\n",
       "      <td>82487.0</td>\n",
       "      <td>1223.376759</td>\n",
       "      <td>82912.816940</td>\n",
       "      <td>1175.303335</td>\n",
       "      <td>481.507446</td>\n",
       "      <td>...</td>\n",
       "      <td>2.196212</td>\n",
       "      <td>0.754278</td>\n",
       "      <td>0.674781</td>\n",
       "      <td>0.005807</td>\n",
       "      <td>0.002644</td>\n",
       "      <td>0.455329</td>\n",
       "      <td>0.455329</td>\n",
       "      <td>0.246336</td>\n",
       "      <td>0.933590</td>\n",
       "      <td>103.808665</td>\n",
       "    </tr>\n",
       "    <tr>\n",
       "      <th>3</th>\n",
       "      <td>kirmizi 475.jpg</td>\n",
       "      <td>kirmizi_475.jpg</td>\n",
       "      <td>0</td>\n",
       "      <td>455.230591</td>\n",
       "      <td>236.374313</td>\n",
       "      <td>83621.5</td>\n",
       "      <td>1189.217379</td>\n",
       "      <td>84512.626684</td>\n",
       "      <td>1139.466757</td>\n",
       "      <td>455.230591</td>\n",
       "      <td>...</td>\n",
       "      <td>1.925889</td>\n",
       "      <td>0.817953</td>\n",
       "      <td>0.720584</td>\n",
       "      <td>0.005387</td>\n",
       "      <td>0.002797</td>\n",
       "      <td>0.519241</td>\n",
       "      <td>0.519241</td>\n",
       "      <td>0.252661</td>\n",
       "      <td>1.123648</td>\n",
       "      <td>106.372142</td>\n",
       "    </tr>\n",
       "    <tr>\n",
       "      <th>4</th>\n",
       "      <td>kirmizi 313.jpg</td>\n",
       "      <td>kirmizi_313.jpg</td>\n",
       "      <td>0</td>\n",
       "      <td>416.695648</td>\n",
       "      <td>225.598877</td>\n",
       "      <td>73160.5</td>\n",
       "      <td>1095.702659</td>\n",
       "      <td>73832.194933</td>\n",
       "      <td>1052.621353</td>\n",
       "      <td>416.695648</td>\n",
       "      <td>...</td>\n",
       "      <td>1.847064</td>\n",
       "      <td>0.837358</td>\n",
       "      <td>0.735799</td>\n",
       "      <td>0.005644</td>\n",
       "      <td>0.003056</td>\n",
       "      <td>0.541400</td>\n",
       "      <td>0.541400</td>\n",
       "      <td>0.224061</td>\n",
       "      <td>1.001319</td>\n",
       "      <td>105.179346</td>\n",
       "    </tr>\n",
       "  </tbody>\n",
       "</table>\n",
       "<p>5 rows × 86 columns</p>\n",
       "</div>"
      ],
      "text/plain": [
       "           filename filename_camelcase  pistachio_type  major_axis  \\\n",
       "0  kirmizi (23).jpg     kirmizi_23.jpg               0  453.495544   \n",
       "1    kirmizi 21.jpg     kirmizi_21.jpg               0  464.291748   \n",
       "2    kirmizi 35.jpg     kirmizi_35.jpg               0  481.507446   \n",
       "3   kirmizi 475.jpg    kirmizi_475.jpg               0  455.230591   \n",
       "4   kirmizi 313.jpg    kirmizi_313.jpg               0  416.695648   \n",
       "\n",
       "   minor_axis     area    perimeter  ellipse_area  ellipse_perimeter  \\\n",
       "0  220.994598  78732.0  1216.631593  78712.655547        1120.665639   \n",
       "1  248.325897  89545.0  1268.371705  90553.003463        1169.652914   \n",
       "2  219.244537  82487.0  1223.376759  82912.816940        1175.303335   \n",
       "3  236.374313  83621.5  1189.217379  84512.626684        1139.466757   \n",
       "4  225.598877  73160.5  1095.702659  73832.194933        1052.621353   \n",
       "\n",
       "   major_axes  ...         k         r        co       sf1       sf2  \\\n",
       "0  453.495544  ...  2.052066  0.787594  0.698079  0.005761  0.002808   \n",
       "1  464.291748  ...  1.869687  0.831761  0.731334  0.005127  0.002742   \n",
       "2  481.507446  ...  2.196212  0.754278  0.674781  0.005807  0.002644   \n",
       "3  455.230591  ...  1.925889  0.817953  0.720584  0.005387  0.002797   \n",
       "4  416.695648  ...  1.847064  0.837358  0.735799  0.005644  0.003056   \n",
       "\n",
       "        sf3       sf4  percent_area  distance_from_ellipse  average_hue  \n",
       "0  0.487314  0.487314      0.240742               0.747299   104.021402  \n",
       "1  0.534849  0.534849      0.271703               0.862266   108.530097  \n",
       "2  0.455329  0.455329      0.246336               0.933590   103.808665  \n",
       "3  0.519241  0.519241      0.252661               1.123648   106.372142  \n",
       "4  0.541400  0.541400      0.224061               1.001319   105.179346  \n",
       "\n",
       "[5 rows x 86 columns]"
      ]
     },
     "execution_count": 1,
     "metadata": {},
     "output_type": "execute_result"
    }
   ],
   "source": [
    "import pandas as pd\n",
    "df = pd.read_csv(\"pistachios.csv\", index_col=0)\n",
    "df.head()"
   ]
  },
  {
   "cell_type": "code",
   "execution_count": 2,
   "id": "8f0e2d89",
   "metadata": {},
   "outputs": [
    {
     "data": {
      "text/html": [
       "<div>\n",
       "<style scoped>\n",
       "    .dataframe tbody tr th:only-of-type {\n",
       "        vertical-align: middle;\n",
       "    }\n",
       "\n",
       "    .dataframe tbody tr th {\n",
       "        vertical-align: top;\n",
       "    }\n",
       "\n",
       "    .dataframe thead th {\n",
       "        text-align: right;\n",
       "    }\n",
       "</style>\n",
       "<table border=\"1\" class=\"dataframe\">\n",
       "  <thead>\n",
       "    <tr style=\"text-align: right;\">\n",
       "      <th></th>\n",
       "      <th>0</th>\n",
       "      <th>1</th>\n",
       "      <th>2</th>\n",
       "      <th>3</th>\n",
       "      <th>4</th>\n",
       "      <th>5</th>\n",
       "      <th>6</th>\n",
       "      <th>7</th>\n",
       "    </tr>\n",
       "  </thead>\n",
       "  <tbody>\n",
       "    <tr>\n",
       "      <th>0</th>\n",
       "      <td>0.000000</td>\n",
       "      <td>0.000000</td>\n",
       "      <td>0.009042</td>\n",
       "      <td>0.396989</td>\n",
       "      <td>0.0</td>\n",
       "      <td>0.027226</td>\n",
       "      <td>0.000138</td>\n",
       "      <td>0.0</td>\n",
       "    </tr>\n",
       "    <tr>\n",
       "      <th>1</th>\n",
       "      <td>0.000000</td>\n",
       "      <td>0.000000</td>\n",
       "      <td>0.000000</td>\n",
       "      <td>0.386188</td>\n",
       "      <td>0.0</td>\n",
       "      <td>0.021057</td>\n",
       "      <td>0.000124</td>\n",
       "      <td>0.0</td>\n",
       "    </tr>\n",
       "    <tr>\n",
       "      <th>2</th>\n",
       "      <td>0.000000</td>\n",
       "      <td>0.000000</td>\n",
       "      <td>0.000000</td>\n",
       "      <td>0.383872</td>\n",
       "      <td>0.0</td>\n",
       "      <td>0.023287</td>\n",
       "      <td>0.000180</td>\n",
       "      <td>0.0</td>\n",
       "    </tr>\n",
       "    <tr>\n",
       "      <th>3</th>\n",
       "      <td>0.000000</td>\n",
       "      <td>0.000000</td>\n",
       "      <td>0.000000</td>\n",
       "      <td>0.389859</td>\n",
       "      <td>0.0</td>\n",
       "      <td>0.015770</td>\n",
       "      <td>0.000124</td>\n",
       "      <td>0.0</td>\n",
       "    </tr>\n",
       "    <tr>\n",
       "      <th>4</th>\n",
       "      <td>0.031194</td>\n",
       "      <td>0.034356</td>\n",
       "      <td>0.021480</td>\n",
       "      <td>0.320941</td>\n",
       "      <td>0.0</td>\n",
       "      <td>0.039477</td>\n",
       "      <td>0.000101</td>\n",
       "      <td>0.0</td>\n",
       "    </tr>\n",
       "  </tbody>\n",
       "</table>\n",
       "</div>"
      ],
      "text/plain": [
       "          0         1         2         3    4         5         6    7\n",
       "0  0.000000  0.000000  0.009042  0.396989  0.0  0.027226  0.000138  0.0\n",
       "1  0.000000  0.000000  0.000000  0.386188  0.0  0.021057  0.000124  0.0\n",
       "2  0.000000  0.000000  0.000000  0.383872  0.0  0.023287  0.000180  0.0\n",
       "3  0.000000  0.000000  0.000000  0.389859  0.0  0.015770  0.000124  0.0\n",
       "4  0.031194  0.034356  0.021480  0.320941  0.0  0.039477  0.000101  0.0"
      ]
     },
     "execution_count": 2,
     "metadata": {},
     "output_type": "execute_result"
    }
   ],
   "source": [
    "tmp = pd.read_csv(\"second_last_layer.csv\", index_col=0)\n",
    "tmp.head()"
   ]
  },
  {
   "cell_type": "code",
   "execution_count": 3,
   "id": "30011121",
   "metadata": {},
   "outputs": [],
   "source": [
    "df = pd.concat([df, tmp], axis=1)\n",
    "df.head()\n",
    "df.to_csv(\"pistachios_with_cnn.csv\")"
   ]
  },
  {
   "cell_type": "code",
   "execution_count": 4,
   "id": "7dd4c32c",
   "metadata": {},
   "outputs": [
    {
     "data": {
      "image/png": "[encoded data removed]",
      "text/plain": [
       "<Figure size 432x288 with 1 Axes>"
      ]
     },
     "metadata": {
      "needs_background": "light"
     },
     "output_type": "display_data"
    }
   ],
   "source": [
    "import numpy as np\n",
    "import matplotlib.pyplot as plt\n",
    "from sklearn.preprocessing import StandardScaler\n",
    "from sklearn.decomposition import PCA\n",
    "\n",
    "scaler = StandardScaler()\n",
    "scaled_X = scaler.fit_transform(df[df.columns[3:]])\n",
    "\n",
    "#define PCA model to use\n",
    "pca = PCA(n_components=20)\n",
    "\n",
    "#fit PCA model to data\n",
    "pca_fit = pca.fit_transform(scaled_X)\n",
    "cum_sum = np.cumsum(pca.explained_variance_ratio_)\n",
    "cutoff = np.argwhere(cum_sum > 0.9)[0][0]\n",
    "\n",
    "PC_values = np.arange(pca.n_components_) + 1\n",
    "plt.plot(PC_values, pca.explained_variance_ratio_, 'o-', linewidth=1, color='red', label=\"Variance\")\n",
    "plt.plot(PC_values, cum_sum, 'o-', linewidth=1, color='blue', label=\"Cumulative Variance\")\n",
    "plt.plot(cutoff, cum_sum[cutoff], \"kx\", label=\">90% Variance\")\n",
    "plt.title('Scree Plot')\n",
    "plt.xlabel('Principal Component')\n",
    "plt.ylabel('Variance Explained')\n",
    "plt.legend()\n",
    "plt.show()"
   ]
  },
  {
   "cell_type": "code",
   "execution_count": 5,
   "id": "d019ff45",
   "metadata": {},
   "outputs": [
    {
     "name": "stdout",
     "output_type": "stream",
     "text": [
      "Optimization terminated successfully.\n",
      "         Current function value: 0.004635\n",
      "         Iterations 14\n"
     ]
    },
    {
     "data": {
      "text/html": [
       "<table class=\"simpletable\">\n",
       "<tr>\n",
       "        <td>Model:</td>              <td>Logit</td>      <td>Pseudo R-squared:</td>  <td>0.993</td> \n",
       "</tr>\n",
       "<tr>\n",
       "  <td>Dependent Variable:</td>  <td>pistachio_type</td>        <td>AIC:</td>        <td>35.9115</td>\n",
       "</tr>\n",
       "<tr>\n",
       "         <td>Date:</td>        <td>2022-07-24 18:14</td>       <td>BIC:</td>        <td>81.2898</td>\n",
       "</tr>\n",
       "<tr>\n",
       "   <td>No. Observations:</td>        <td>2148</td>        <td>Log-Likelihood:</td>  <td>-9.9557</td>\n",
       "</tr>\n",
       "<tr>\n",
       "       <td>Df Model:</td>              <td>7</td>            <td>LL-Null:</td>      <td>-1465.6</td>\n",
       "</tr>\n",
       "<tr>\n",
       "     <td>Df Residuals:</td>          <td>2140</td>         <td>LLR p-value:</td>    <td>0.0000</td> \n",
       "</tr>\n",
       "<tr>\n",
       "      <td>Converged:</td>           <td>1.0000</td>           <td>Scale:</td>       <td>1.0000</td> \n",
       "</tr>\n",
       "<tr>\n",
       "    <td>No. Iterations:</td>        <td>14.0000</td>             <td></td>             <td></td>    \n",
       "</tr>\n",
       "</table>\n",
       "<table class=\"simpletable\">\n",
       "<tr>\n",
       "   <td></td>   <th>Coef.</th>  <th>Std.Err.</th>    <th>z</th>     <th>P>|z|</th> <th>[0.025</th>  <th>0.975]</th> \n",
       "</tr>\n",
       "<tr>\n",
       "  <th>x1</th> <td>0.6054</td>   <td>0.2270</td>  <td>2.6665</td>  <td>0.0077</td> <td>0.1604</td>  <td>1.0504</td> \n",
       "</tr>\n",
       "<tr>\n",
       "  <th>x2</th> <td>-2.2938</td>  <td>0.6528</td>  <td>-3.5139</td> <td>0.0004</td> <td>-3.5732</td> <td>-1.0144</td>\n",
       "</tr>\n",
       "<tr>\n",
       "  <th>x3</th> <td>2.8972</td>   <td>0.8244</td>  <td>3.5145</td>  <td>0.0004</td> <td>1.2815</td>  <td>4.5129</td> \n",
       "</tr>\n",
       "<tr>\n",
       "  <th>x4</th> <td>2.6156</td>   <td>0.7631</td>  <td>3.4275</td>  <td>0.0006</td> <td>1.1199</td>  <td>4.1113</td> \n",
       "</tr>\n",
       "<tr>\n",
       "  <th>x5</th> <td>0.5332</td>   <td>0.2954</td>  <td>1.8050</td>  <td>0.0711</td> <td>-0.0458</td> <td>1.1122</td> \n",
       "</tr>\n",
       "<tr>\n",
       "  <th>x6</th> <td>1.0480</td>   <td>0.4302</td>  <td>2.4361</td>  <td>0.0148</td> <td>0.2048</td>  <td>1.8912</td> \n",
       "</tr>\n",
       "<tr>\n",
       "  <th>x7</th> <td>5.6431</td>   <td>1.5054</td>  <td>3.7486</td>  <td>0.0002</td> <td>2.6926</td>  <td>8.5935</td> \n",
       "</tr>\n",
       "<tr>\n",
       "  <th>x8</th> <td>0.7762</td>   <td>0.5191</td>  <td>1.4954</td>  <td>0.1348</td> <td>-0.2411</td> <td>1.7936</td> \n",
       "</tr>\n",
       "</table>"
      ],
      "text/plain": [
       "<class 'statsmodels.iolib.summary2.Summary'>\n",
       "\"\"\"\n",
       "                        Results: Logit\n",
       "==============================================================\n",
       "Model:              Logit            Pseudo R-squared: 0.993  \n",
       "Dependent Variable: pistachio_type   AIC:              35.9115\n",
       "Date:               2022-07-24 18:14 BIC:              81.2898\n",
       "No. Observations:   2148             Log-Likelihood:   -9.9557\n",
       "Df Model:           7                LL-Null:          -1465.6\n",
       "Df Residuals:       2140             LLR p-value:      0.0000 \n",
       "Converged:          1.0000           Scale:            1.0000 \n",
       "No. Iterations:     14.0000                                   \n",
       "----------------------------------------------------------------\n",
       "        Coef.    Std.Err.      z      P>|z|     [0.025    0.975]\n",
       "----------------------------------------------------------------\n",
       "x1      0.6054     0.2270    2.6665   0.0077    0.1604    1.0504\n",
       "x2     -2.2938     0.6528   -3.5139   0.0004   -3.5732   -1.0144\n",
       "x3      2.8972     0.8244    3.5145   0.0004    1.2815    4.5129\n",
       "x4      2.6156     0.7631    3.4275   0.0006    1.1199    4.1113\n",
       "x5      0.5332     0.2954    1.8050   0.0711   -0.0458    1.1122\n",
       "x6      1.0480     0.4302    2.4361   0.0148    0.2048    1.8912\n",
       "x7      5.6431     1.5054    3.7486   0.0002    2.6926    8.5935\n",
       "x8      0.7762     0.5191    1.4954   0.1348   -0.2411    1.7936\n",
       "==============================================================\n",
       "\n",
       "\"\"\""
      ]
     },
     "execution_count": 5,
     "metadata": {},
     "output_type": "execute_result"
    }
   ],
   "source": [
    "import statsmodels.api as sm\n",
    "X = pca_fit[:, :cutoff + 1]\n",
    "y = df[\"pistachio_type\"]\n",
    "logit_model=sm.Logit(y,X)\n",
    "result=logit_model.fit()\n",
    "result.summary2()"
   ]
  },
  {
   "cell_type": "code",
   "execution_count": 6,
   "id": "b255c7c7",
   "metadata": {},
   "outputs": [
    {
     "name": "stdout",
     "output_type": "stream",
     "text": [
      "Accuracy of logistic regression classifier on test set: 1.00\n",
      "              precision    recall  f1-score   support\n",
      "\n",
      "           0       0.99      1.00      1.00       374\n",
      "           1       1.00      0.99      1.00       271\n",
      "\n",
      "    accuracy                           1.00       645\n",
      "   macro avg       1.00      1.00      1.00       645\n",
      "weighted avg       1.00      1.00      1.00       645\n",
      "\n"
     ]
    },
    {
     "name": "stderr",
     "output_type": "stream",
     "text": [
      "/Users/aura_dev/.virtualenvs/w281/lib/python3.7/site-packages/sklearn/linear_model/logistic.py:432: FutureWarning: Default solver will be changed to 'lbfgs' in 0.22. Specify a solver to silence this warning.\n",
      "  FutureWarning)\n"
     ]
    }
   ],
   "source": [
    "from sklearn.linear_model import LogisticRegression\n",
    "from sklearn.model_selection import train_test_split\n",
    "from sklearn import metrics\n",
    "X_train, X_test, y_train, y_test = train_test_split(X, y, test_size=0.3, random_state=0)\n",
    "logreg = LogisticRegression()\n",
    "logreg.fit(X_train, y_train)\n",
    "\n",
    "y_pred = logreg.predict(X_test)\n",
    "print('Accuracy of logistic regression classifier on test set: {:.2f}'.format(logreg.score(X_test, y_test)))\n",
    "print(metrics.classification_report(y_test, y_pred))"
   ]
  },
  {
   "cell_type": "code",
   "execution_count": 7,
   "id": "7a3d6abb",
   "metadata": {},
   "outputs": [
    {
     "data": {
      "text/plain": [
       "0.9986033519553073"
      ]
     },
     "execution_count": 7,
     "metadata": {},
     "output_type": "execute_result"
    }
   ],
   "source": [
    "logreg.score(X, y)"
   ]
  },
  {
   "cell_type": "code",
   "execution_count": 8,
   "id": "49b6dae6",
   "metadata": {},
   "outputs": [
    {
     "data": {
      "text/plain": [
       "array([[-11.492138 ,  -5.8462124],\n",
       "       [ -2.834706 ,  32.25245  ],\n",
       "       [ -0.7666459,  24.98514  ],\n",
       "       ...,\n",
       "       [ 21.767897 ,  20.163347 ],\n",
       "       [ 26.433018 ,  56.080322 ],\n",
       "       [ 29.956652 , -56.034904 ]], dtype=float32)"
      ]
     },
     "execution_count": 8,
     "metadata": {},
     "output_type": "execute_result"
    }
   ],
   "source": [
    "from sklearn.manifold import TSNE\n",
    "# dimensionality reduction\n",
    "tsne = TSNE(n_components=2, random_state=0)\n",
    "tsne_X = tsne.fit_transform(scaled_X) # 2D representation\n",
    "# y    = range(len(digits.target_names)) # labels for visual\n",
    "# visualize\n",
    "# plt.figure(figsize=(10, 10))\n",
    "tsne_X"
   ]
  },
  {
   "cell_type": "code",
   "execution_count": 9,
   "id": "14e8f450",
   "metadata": {},
   "outputs": [
    {
     "data": {
      "text/plain": [
       "[<matplotlib.lines.Line2D at 0x13ec1c310>]"
      ]
     },
     "execution_count": 9,
     "metadata": {},
     "output_type": "execute_result"
    },
    {
     "data": {
      "image/png": "[encoded data removed]",
      "text/plain": [
       "<Figure size 432x288 with 1 Axes>"
      ]
     },
     "metadata": {
      "needs_background": "light"
     },
     "output_type": "display_data"
    }
   ],
   "source": [
    "tsne_plot_x = tsne_X[:, 0]\n",
    "tsne_plot_y = tsne_X[:, 1]\n",
    "check_x_0 = tsne_plot_x[y == 0]\n",
    "check_y_0 = tsne_plot_y[y == 0]\n",
    "check_x_1 = tsne_plot_x[y == 1]\n",
    "check_y_1 = tsne_plot_y[y == 1]\n",
    "plt.plot(check_x_0, check_y_0, \".\")\n",
    "plt.plot(check_x_1, check_y_1, \".\")"
   ]
  },
  {
   "cell_type": "code",
   "execution_count": 10,
   "id": "5757e275",
   "metadata": {},
   "outputs": [
    {
     "data": {
      "text/plain": [
       "0.9968992248062015"
      ]
     },
     "execution_count": 10,
     "metadata": {},
     "output_type": "execute_result"
    }
   ],
   "source": [
    "from sklearn import svm\n",
    "clf = svm.SVC(kernel='linear', C = 1.0)\n",
    "clf.fit(X_train, y_train)\n",
    "clf.score(X_test, y_test)"
   ]
  },
  {
   "cell_type": "code",
   "execution_count": 11,
   "id": "b623602f",
   "metadata": {},
   "outputs": [
    {
     "name": "stdout",
     "output_type": "stream",
     "text": [
      "Accuracy of linear svm classifier on test set: 1.00\n",
      "              precision    recall  f1-score   support\n",
      "\n",
      "           0       0.99      1.00      1.00       374\n",
      "           1       1.00      0.99      1.00       271\n",
      "\n",
      "    accuracy                           1.00       645\n",
      "   macro avg       1.00      1.00      1.00       645\n",
      "weighted avg       1.00      1.00      1.00       645\n",
      "\n"
     ]
    }
   ],
   "source": [
    "y_pred = clf.predict(X_test)\n",
    "print('Accuracy of linear svm classifier on test set: {:.2f}'.format(logreg.score(X_test, y_test)))\n",
    "print(metrics.classification_report(y_test, y_pred))"
   ]
  },
  {
   "cell_type": "code",
   "execution_count": null,
   "id": "3b4c93d5",
   "metadata": {},
   "outputs": [],
   "source": []
  }
 ],
 "metadata": {
  "kernelspec": {
   "display_name": "Python 3 (ipykernel)",
   "language": "python",
   "name": "python3"
  },
  "language_info": {
   "codemirror_mode": {
    "name": "ipython",
    "version": 3
   },
   "file_extension": ".py",
   "mimetype": "text/x-python",
   "name": "python",
   "nbconvert_exporter": "python",
   "pygments_lexer": "ipython3",
   "version": "3.7.6"
  }
 },
 "nbformat": 4,
 "nbformat_minor": 5
}
