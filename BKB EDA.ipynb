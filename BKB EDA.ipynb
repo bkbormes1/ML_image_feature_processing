{
 "cells": [
  {
   "cell_type": "code",
   "execution_count": 2,
   "metadata": {},
   "outputs": [],
   "source": [
    "# import libraries\n",
    "import matplotlib.pyplot as plt \n",
    "import numpy as np\n",
    "from scipy.ndimage import convolve\n",
    "# from utils import *\n",
    "from multiprocessing import Pool\n",
    "import os"
   ]
  },
  {
   "cell_type": "code",
   "execution_count": 5,
   "metadata": {},
   "outputs": [],
   "source": [
    "# read in data\n",
    "path_k = 'Pistachio_Image_Dataset/Pistachio_Image_Dataset/Kirmizi_Pistachio/'\n",
    "path_s = 'Pistachio_Image_Dataset/Pistachio_Image_Dataset/Siirt_Pistachio/'\n",
    "  \n",
    "listing_k = os.listdir(path_k)    \n",
    "listing_s = os.listdir(path_s)  \n",
    "\n",
    "k_images = []\n",
    "s_images = []\n",
    "\n",
    "for file in listing_k:\n",
    "    im_k = plt.imread(path_k + file)  \n",
    "    k_images.append(im_k)\n",
    "for file in listing_s:\n",
    "    im_s = plt.imread(path_s + file)  \n",
    "    s_images.append(im_s)"
   ]
  },
  {
   "cell_type": "code",
   "execution_count": 6,
   "metadata": {},
   "outputs": [],
   "source": [
    "def gaussian_and_laplacian_stack(img, levels):\n",
    "    '''Function to create gaussian and laplacian stacks of the images'''\n",
    "    # create 2D Gaussian\n",
    "    g_fil = create_2d_gaussian(15, 8)\n",
    "    # for each level\n",
    "    # apply Gaussian and append to Gaussian stack\n",
    "    ydim, xdim = img.shape\n",
    "    g_stack = np.empty((ydim, xdim, levels))\n",
    "    g_stack[:,:,0] = img\n",
    "    i_img = img\n",
    "    l_stack = np.empty((ydim, xdim, levels))\n",
    "    for i in range(0,levels):\n",
    "        if i == (levels-1):\n",
    "            l_img = g_img\n",
    "            l_stack[:,:,i] = l_img\n",
    "        else:\n",
    "            g_img = convolve(i_img,g_fil)\n",
    "            g_stack[:,:,i+1] = g_img\n",
    "            l_img = i_img - g_img\n",
    "            l_stack[:,:,i] = l_img\n",
    "            i_img = g_img\n",
    "    return g_stack, l_stack\n",
    "# stack visualization\n",
    "def visualize_stack(in_stack, title):\n",
    "    '''function to visualize gaussian and laplacian stacks'''\n",
    "    # set the number of levels\n",
    "    levels = 6\n",
    "    plt.figure(figsize=(15,5))\n",
    "    plt.subplot(1,levels,1)\n",
    "    plt.imshow(in_stack[:,:,0], cmap='gray')\n",
    "    plt.subplot(1,levels,2)\n",
    "    plt.imshow(in_stack[:,:,1], cmap='gray')\n",
    "    plt.subplot(1,levels,3)\n",
    "    plt.imshow(in_stack[:,:,2], cmap='gray')\n",
    "    plt.subplot(1,levels,4)\n",
    "    plt.imshow(in_stack[:,:,3], cmap='gray')\n",
    "    plt.subplot(1,levels,5)\n",
    "    plt.imshow(in_stack[:,:,4], cmap='gray')\n",
    "    plt.subplot(1,levels,6)\n",
    "    plt.imshow(in_stack[:,:,5], cmap='gray')\n",
    "    # don't forget to set the cmap, vmin, vmax, and axis off\n",
    "    # add titles to the plot\n",
    "    plt.title(title) \n",
    "    plt.show()"
   ]
  },
  {
   "cell_type": "code",
   "execution_count": null,
   "metadata": {},
   "outputs": [],
   "source": [
    "# visualize gaussian and laplacian stacks for both types of pistachios\n",
    "gs_k, ls_k = gaussian_and_laplacian_stack(hybrid, 6)"
   ]
  }
 ],
 "metadata": {
  "kernelspec": {
   "display_name": "Python 3",
   "language": "python",
   "name": "python3"
  },
  "language_info": {
   "codemirror_mode": {
    "name": "ipython",
    "version": 3
   },
   "file_extension": ".py",
   "mimetype": "text/x-python",
   "name": "python",
   "nbconvert_exporter": "python",
   "pygments_lexer": "ipython3",
   "version": "3.8.5"
  }
 },
 "nbformat": 4,
 "nbformat_minor": 4
}
